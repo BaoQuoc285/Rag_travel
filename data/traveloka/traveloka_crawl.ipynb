{
  "cells": [
    {
      "cell_type": "code",
      "source": [
        "!pip install requests\n",
        "!pip install beautifulsoup4"
      ],
      "metadata": {
        "colab": {
          "base_uri": "https://localhost:8080/"
        },
        "id": "i4bO2kI88GYx",
        "outputId": "0d49e491-0436-4be3-909a-3c03bc0a0822"
      },
      "execution_count": 4,
      "outputs": [
        {
          "output_type": "stream",
          "name": "stdout",
          "text": [
            "Requirement already satisfied: requests in /usr/local/lib/python3.10/dist-packages (2.32.3)\n",
            "Requirement already satisfied: charset-normalizer<4,>=2 in /usr/local/lib/python3.10/dist-packages (from requests) (3.4.0)\n",
            "Requirement already satisfied: idna<4,>=2.5 in /usr/local/lib/python3.10/dist-packages (from requests) (3.10)\n",
            "Requirement already satisfied: urllib3<3,>=1.21.1 in /usr/local/lib/python3.10/dist-packages (from requests) (2.2.3)\n",
            "Requirement already satisfied: certifi>=2017.4.17 in /usr/local/lib/python3.10/dist-packages (from requests) (2024.12.14)\n",
            "Requirement already satisfied: beautifulsoup4 in /usr/local/lib/python3.10/dist-packages (4.12.3)\n",
            "Requirement already satisfied: soupsieve>1.2 in /usr/local/lib/python3.10/dist-packages (from beautifulsoup4) (2.6)\n"
          ]
        }
      ]
    },
    {
      "cell_type": "code",
      "source": [
        "from bs4 import BeautifulSoup\n",
        "import requests"
      ],
      "metadata": {
        "id": "AGHO7n6n8Qt-"
      },
      "execution_count": 5,
      "outputs": []
    },
    {
      "cell_type": "code",
      "execution_count": 9,
      "metadata": {
        "id": "zeAymDlM8DzZ"
      },
      "outputs": [],
      "source": [
        "def crawl_traveloka(urls=\"https://www.traveloka.com/vi-vn/explore/destinations?page=2&subcategory=vietnam\",num_page=332):\n",
        "    list_url=[]\n",
        "    for i in range(num_page):\n",
        "        cur_url=f\"https://www.traveloka.com/vi-vn/explore/destinations?page={i}&subcategory=vietnam\"\n",
        "        hrefs=[]\n",
        "        try:\n",
        "            response = requests.get(cur_url).content\n",
        "            soup = BeautifulSoup(response, 'html.parser')\n",
        "            #Find list title\n",
        "            hrefs=soup.find_all(\"a\",{\"class\":\"r-eqz5dr\"})\n",
        "        except requests.exceptions.RequestException as e:\n",
        "            print(f\"Error accessing URL: {href}\")\n",
        "            print(e)\n",
        "            continue\n",
        "        if len(hrefs):\n",
        "            for href in hrefs:\n",
        "                list_url.append(href.get('href'))\n",
        "    return list_url"
      ]
    },
    {
      "cell_type": "code",
      "execution_count": 10,
      "metadata": {
        "colab": {
          "base_uri": "https://localhost:8080/"
        },
        "id": "2-mcMv6o8Dzd",
        "outputId": "dd0b73a2-417d-44e9-99b7-718dcc24f001"
      },
      "outputs": [
        {
          "output_type": "execute_result",
          "data": {
            "text/plain": [
              "2988"
            ]
          },
          "metadata": {},
          "execution_count": 10
        }
      ],
      "source": [
        "list_url=crawl_traveloka()\n",
        "len(list_url)"
      ]
    },
    {
      "cell_type": "code",
      "execution_count": 11,
      "metadata": {
        "colab": {
          "base_uri": "https://localhost:8080/"
        },
        "id": "glaBLdgq8Dze",
        "outputId": "e89d2f28-96c3-4217-c6fd-13ce4d21b511"
      },
      "outputs": [
        {
          "output_type": "execute_result",
          "data": {
            "text/plain": [
              "2988"
            ]
          },
          "metadata": {},
          "execution_count": 11
        }
      ],
      "source": [
        "len(list_url)"
      ]
    },
    {
      "cell_type": "code",
      "execution_count": 12,
      "metadata": {
        "colab": {
          "base_uri": "https://localhost:8080/",
          "height": 36
        },
        "id": "OHxTepr38Dze",
        "outputId": "3271aea1-7221-4fd8-b6b5-d86cc23276f7"
      },
      "outputs": [
        {
          "output_type": "execute_result",
          "data": {
            "text/plain": [
              "'https://www.traveloka.com/vi-vn/explore/tips/holiday-lich-ban-phao-hoa-tet/473427'"
            ],
            "application/vnd.google.colaboratory.intrinsic+json": {
              "type": "string"
            }
          },
          "metadata": {},
          "execution_count": 12
        }
      ],
      "source": [
        "sample_url=list_url[0]\n",
        "sample_url"
      ]
    },
    {
      "cell_type": "code",
      "execution_count": 13,
      "metadata": {
        "colab": {
          "base_uri": "https://localhost:8080/"
        },
        "id": "fdvlcrBU8Dzf",
        "outputId": "e69aeee0-3c9f-4341-ae46-a05a5b276ea0"
      },
      "outputs": [
        {
          "output_type": "stream",
          "name": "stdout",
          "text": [
            "<h1 aria-level=\"1\" class=\"css-4rbku5 css-901oao r-a5wbuh r-s67bdx r-b88u0q r-lylfki r-1ifxtd0 r-fdjqy7\" dir=\"auto\" role=\"heading\" style=\"color:rgba(3,18,26,1.00)\">Địa điểm và lịch bắn pháo hoa Tết Dương Lịch và Âm Lịch 2025</h1>\n"
          ]
        }
      ],
      "source": [
        "response = requests.get(sample_url).content\n",
        "soup = BeautifulSoup(response, 'html.parser')\n",
        "print(soup.find('h1'))"
      ]
    },
    {
      "cell_type": "code",
      "execution_count": 38,
      "metadata": {
        "id": "hZK_KbMp8Dzf"
      },
      "outputs": [],
      "source": [
        "def get_content_from_url(url):\n",
        "    try:\n",
        "        # Gửi yêu cầu HTTP và lấy nội dung\n",
        "        response = requests.get(url)\n",
        "\n",
        "        # Kiểm tra mã trạng thái của phản hồi\n",
        "        if response.status_code == 200:\n",
        "            soup = BeautifulSoup(response.content, 'html.parser')\n",
        "\n",
        "            title = soup.find('h1')\n",
        "            # if title:\n",
        "            #     print(title.text)\n",
        "            # else:\n",
        "            #     print(\"Không tìm thấy thẻ <h1>.\")\n",
        "\n",
        "            content_list=soup.find_all('p')\n",
        "            content = ' '.join([p.get_text() for p in content_list])\n",
        "            # print(content)\n",
        "            return title.get_text(),content\n",
        "        else:\n",
        "            print(f\"Lỗi: Mã trạng thái {response.status_code}\")\n",
        "            return None\n",
        "    except requests.exceptions.RequestException as e:\n",
        "        print(f\"Error accessing URL: {url}\")\n",
        "        print(e)\n",
        "        return None"
      ]
    },
    {
      "cell_type": "code",
      "execution_count": 39,
      "metadata": {
        "id": "-lwtSZpx8Dzg"
      },
      "outputs": [],
      "source": [
        "title=get_content_from_url(sample_url)"
      ]
    },
    {
      "cell_type": "code",
      "execution_count": 62,
      "metadata": {
        "id": "kSwRDgMM8Dzg"
      },
      "outputs": [],
      "source": [
        "from tqdm import tqdm\n",
        "import time\n",
        "\n",
        "def get_content_from_many_url(list_url):\n",
        "    title_list=[]\n",
        "    content_list=[]\n",
        "    for url in tqdm(list_url, desc=\"Processing URLs\"): # Wrap list_url with tqdm\n",
        "        cur_len=len(title_list)\n",
        "        try:\n",
        "            result = get_content_from_url(url) # Get the result from get_content_from_url\n",
        "            if result: # Check if the result is not None\n",
        "                title,content=result # Unpack if it's a tuple\n",
        "                if (title and content):\n",
        "                    title_list.append(title)\n",
        "                    content_list.append(content)\n",
        "        except Exception as e:\n",
        "            print(f\"Error {e} in {url}\")\n",
        "\n",
        "        while (len(title_list)==cur_len):\n",
        "            print(url)\n",
        "            time.sleep(50)  # Wait for 1 second\n",
        "            #try_again\n",
        "            result = get_content_from_url(url) # Get the result from get_content_from_url\n",
        "            if result: # Check if the result is not None\n",
        "                title,content= result # Unpack if it's a tuple\n",
        "                if (title and content):\n",
        "                    title_list.append(title)\n",
        "                    content_list.append(content)\n",
        "            print(\"Try succesfully\")\n",
        "            print(f\"Len current list{cur_len}\")\n",
        "            print(f\"Len new list{len(title_list)}\")\n",
        "    return title_list,content_list"
      ]
    },
    {
      "cell_type": "code",
      "execution_count": 65,
      "metadata": {
        "colab": {
          "base_uri": "https://localhost:8080/"
        },
        "id": "09BT8Ele8Dzh",
        "outputId": "5ea44d77-0950-4d6e-c48b-5fdb04b50484"
      },
      "outputs": [
        {
          "output_type": "stream",
          "name": "stderr",
          "text": [
            "Processing URLs:  33%|███▎      | 332/1000 [00:41<01:18,  8.55it/s]"
          ]
        },
        {
          "output_type": "stream",
          "name": "stdout",
          "text": [
            "Lỗi: Mã trạng thái 403\n",
            "https://www.traveloka.com/vi-vn/explore/tips/weather-thoi-tiet-hai-phong/414117\n"
          ]
        },
        {
          "output_type": "stream",
          "name": "stderr",
          "text": [
            "Processing URLs:  34%|███▎      | 335/1000 [01:31<1:30:46,  8.19s/it]"
          ]
        },
        {
          "output_type": "stream",
          "name": "stdout",
          "text": [
            "Try succesfully\n",
            "Len current list332\n",
            "Len new list333\n"
          ]
        },
        {
          "output_type": "stream",
          "name": "stderr",
          "text": [
            "Processing URLs:  72%|███████▏  | 719/1000 [02:16<00:32,  8.75it/s]"
          ]
        },
        {
          "output_type": "stream",
          "name": "stdout",
          "text": [
            "Lỗi: Mã trạng thái 403\n",
            "https://www.traveloka.com/vi-vn/explore/destination/dia-diem-du-lich-phan-thiet-acc/233581\n"
          ]
        },
        {
          "output_type": "stream",
          "name": "stderr",
          "text": [
            "\rProcessing URLs:  72%|███████▏  | 720/1000 [03:06<57:41, 12.36s/it]"
          ]
        },
        {
          "output_type": "stream",
          "name": "stdout",
          "text": [
            "Try succesfully\n",
            "Len current list719\n",
            "Len new list720\n"
          ]
        },
        {
          "output_type": "stream",
          "name": "stderr",
          "text": [
            "Processing URLs: 100%|██████████| 1000/1000 [03:33<00:00,  4.67it/s]\n",
            "Processing URLs:  11%|█▏        | 113/1000 [00:12<01:45,  8.43it/s]"
          ]
        },
        {
          "output_type": "stream",
          "name": "stdout",
          "text": [
            "Lỗi: Mã trạng thái 403\n",
            "https://www.traveloka.com/vi-vn/explore/destination/gns-dia-diem-chup-anh-ao-dai-o-ha-noi/307365\n"
          ]
        },
        {
          "output_type": "stream",
          "name": "stderr",
          "text": [
            "\rProcessing URLs:  11%|█▏        | 113/1000 [00:23<01:45,  8.43it/s]"
          ]
        },
        {
          "output_type": "stream",
          "name": "stdout",
          "text": [
            "Lỗi: Mã trạng thái 403\n",
            "Try succesfully\n",
            "Len current list114\n",
            "Len new list114\n",
            "https://www.traveloka.com/vi-vn/explore/destination/gns-dia-diem-chup-anh-ao-dai-o-ha-noi/307365\n"
          ]
        },
        {
          "output_type": "stream",
          "name": "stderr",
          "text": [
            "Processing URLs:  12%|█▏        | 117/1000 [01:52<2:36:31, 10.64s/it]"
          ]
        },
        {
          "output_type": "stream",
          "name": "stdout",
          "text": [
            "Try succesfully\n",
            "Len current list114\n",
            "Len new list115\n"
          ]
        },
        {
          "output_type": "stream",
          "name": "stderr",
          "text": [
            "Processing URLs:  51%|█████     | 508/1000 [02:32<00:52,  9.31it/s]"
          ]
        },
        {
          "output_type": "stream",
          "name": "stdout",
          "text": [
            "Lỗi: Mã trạng thái 403\n",
            "https://www.traveloka.com/vi-vn/explore/destination/tu-cam-thanh-hue/259863\n"
          ]
        },
        {
          "output_type": "stream",
          "name": "stderr",
          "text": [
            "\rProcessing URLs:  51%|█████     | 508/1000 [02:43<00:52,  9.31it/s]"
          ]
        },
        {
          "output_type": "stream",
          "name": "stdout",
          "text": [
            "Lỗi: Mã trạng thái 403\n",
            "Try succesfully\n",
            "Len current list508\n",
            "Len new list508\n",
            "https://www.traveloka.com/vi-vn/explore/destination/tu-cam-thanh-hue/259863\n"
          ]
        },
        {
          "output_type": "stream",
          "name": "stderr",
          "text": [
            "Processing URLs:  51%|█████     | 511/1000 [04:12<1:36:37, 11.86s/it]"
          ]
        },
        {
          "output_type": "stream",
          "name": "stdout",
          "text": [
            "Try succesfully\n",
            "Len current list508\n",
            "Len new list509\n"
          ]
        },
        {
          "output_type": "stream",
          "name": "stderr",
          "text": [
            "Processing URLs:  92%|█████████▏| 917/1000 [04:52<00:16,  5.18it/s]"
          ]
        },
        {
          "output_type": "stream",
          "name": "stdout",
          "text": [
            "Lỗi: Mã trạng thái 403\n",
            "https://www.traveloka.com/vi-vn/explore/destination/chua-giac-lam-sai-gon-acc/234638\n",
            "Lỗi: Mã trạng thái 403\n",
            "Try succesfully\n",
            "Len current list917\n",
            "Len new list917\n",
            "https://www.traveloka.com/vi-vn/explore/destination/chua-giac-lam-sai-gon-acc/234638\n"
          ]
        },
        {
          "output_type": "stream",
          "name": "stderr",
          "text": [
            "Processing URLs:  92%|█████████▏| 919/1000 [06:32<25:49, 19.14s/it]"
          ]
        },
        {
          "output_type": "stream",
          "name": "stdout",
          "text": [
            "Try succesfully\n",
            "Len current list917\n",
            "Len new list918\n"
          ]
        },
        {
          "output_type": "stream",
          "name": "stderr",
          "text": [
            "Processing URLs: 100%|██████████| 1000/1000 [06:57<00:00,  2.40it/s]\n"
          ]
        }
      ],
      "source": [
        "title_list_1,content_list_1=get_content_from_many_url(list_url[0:1000])\n",
        "title_list_2, content_list_2 = get_content_from_many_url(list_url[1000:2000])"
      ]
    },
    {
      "cell_type": "code",
      "source": [
        "title_list_3, content_list_3 = get_content_from_many_url(list_url[2000:2500])"
      ],
      "metadata": {
        "colab": {
          "base_uri": "https://localhost:8080/"
        },
        "id": "O3w-gUo_Z0sH",
        "outputId": "420ee5cf-50db-4891-ccce-9f1ed321d908"
      },
      "execution_count": 66,
      "outputs": [
        {
          "output_type": "stream",
          "name": "stderr",
          "text": [
            "Processing URLs:  70%|███████   | 350/500 [00:34<00:14, 10.59it/s]"
          ]
        },
        {
          "output_type": "stream",
          "name": "stdout",
          "text": [
            "Lỗi: Mã trạng thái 403\n",
            "https://www.traveloka.com/vi-vn/explore/destination/chua-quan-su-acc/209106\n"
          ]
        },
        {
          "output_type": "stream",
          "name": "stderr",
          "text": [
            "\rProcessing URLs:  70%|███████   | 350/500 [00:46<00:14, 10.59it/s]"
          ]
        },
        {
          "output_type": "stream",
          "name": "stdout",
          "text": [
            "Lỗi: Mã trạng thái 403\n",
            "Try succesfully\n",
            "Len current list351\n",
            "Len new list351\n",
            "https://www.traveloka.com/vi-vn/explore/destination/chua-quan-su-acc/209106\n"
          ]
        },
        {
          "output_type": "stream",
          "name": "stderr",
          "text": [
            "Processing URLs:  71%|███████   | 354/500 [02:15<25:49, 10.62s/it]"
          ]
        },
        {
          "output_type": "stream",
          "name": "stdout",
          "text": [
            "Try succesfully\n",
            "Len current list351\n",
            "Len new list352\n"
          ]
        },
        {
          "output_type": "stream",
          "name": "stderr",
          "text": [
            "Processing URLs: 100%|██████████| 500/500 [02:28<00:00,  3.36it/s]\n"
          ]
        }
      ]
    },
    {
      "cell_type": "code",
      "source": [
        "value_to_remove = \"https://www.traveloka.com/vi-vn/explore/destination/khach-san-nha-trang-gan-bien-acc/165344\"\n",
        "\n",
        "if value_to_remove in list_url:\n",
        "    list_url.remove(value_to_remove)"
      ],
      "metadata": {
        "id": "nvuF_pQAg4_O"
      },
      "execution_count": 68,
      "outputs": []
    },
    {
      "cell_type": "code",
      "source": [
        "title_list_4, content_list_4 = get_content_from_many_url(list_url[2500:])"
      ],
      "metadata": {
        "colab": {
          "base_uri": "https://localhost:8080/"
        },
        "id": "M4fwi7EucTdp",
        "outputId": "35267173-7357-40d1-ea16-81452d9e7a07"
      },
      "execution_count": 69,
      "outputs": [
        {
          "output_type": "stream",
          "name": "stderr",
          "text": [
            "Processing URLs:  73%|███████▎  | 354/487 [01:50<13:02,  5.89s/it]"
          ]
        },
        {
          "output_type": "stream",
          "name": "stdout",
          "text": [
            "Lỗi: Mã trạng thái 403\n",
            "https://www.traveloka.com/vi-vn/explore/culinary/keo-cu-do-la-dac-san-cua-tinh-nao/155693\n"
          ]
        },
        {
          "output_type": "stream",
          "name": "stderr",
          "text": [
            "Processing URLs:  73%|███████▎  | 356/487 [02:40<29:26, 13.48s/it]"
          ]
        },
        {
          "output_type": "stream",
          "name": "stdout",
          "text": [
            "Try succesfully\n",
            "Len current list354\n",
            "Len new list355\n"
          ]
        },
        {
          "output_type": "stream",
          "name": "stderr",
          "text": [
            "Processing URLs: 100%|██████████| 487/487 [03:02<00:00,  2.67it/s]\n"
          ]
        }
      ]
    },
    {
      "cell_type": "code",
      "source": [
        "title_list=title_list_1+title_list_2+title_list_3+title_list_4\n",
        "content_list=content_list_1+content_list_2+content_list_3+content_list_4"
      ],
      "metadata": {
        "id": "IqirIQV0h5YS"
      },
      "execution_count": 71,
      "outputs": []
    },
    {
      "cell_type": "code",
      "execution_count": 72,
      "metadata": {
        "id": "G-Nt0mI68Dzh"
      },
      "outputs": [],
      "source": [
        "import pandas as pd\n",
        "data={\"URL\":list_url,\"Title\":title_list,\"Content\":content_list}\n",
        "df=pd.DataFrame(data)\n",
        "\n",
        "df.to_csv('Traveloka.csv',encoding=\"utf-8\",index=True)"
      ]
    },
    {
      "cell_type": "code",
      "source": [],
      "metadata": {
        "id": "dn6iuVjpEM_J"
      },
      "execution_count": null,
      "outputs": []
    }
  ],
  "metadata": {
    "kernelspec": {
      "display_name": "base",
      "language": "python",
      "name": "python3"
    },
    "language_info": {
      "codemirror_mode": {
        "name": "ipython",
        "version": 3
      },
      "file_extension": ".py",
      "mimetype": "text/x-python",
      "name": "python",
      "nbconvert_exporter": "python",
      "pygments_lexer": "ipython3",
      "version": "3.12.4"
    },
    "colab": {
      "provenance": []
    }
  },
  "nbformat": 4,
  "nbformat_minor": 0
}